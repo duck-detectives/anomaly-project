{
 "cells": [
  {
   "cell_type": "markdown",
   "id": "0fa089e1-55bd-4a4f-b3b2-cfb696ac2aea",
   "metadata": {},
   "source": [
    "#### Imports"
   ]
  },
  {
   "cell_type": "code",
   "execution_count": 1,
   "id": "aee1f0d0-f99f-4497-872c-6ee5bdaf70ca",
   "metadata": {},
   "outputs": [],
   "source": [
    "# from __future__ import division\n",
    "import itertools\n",
    "import warnings\n",
    "warnings.filterwarnings(\"ignore\")\n",
    "import matplotlib.pyplot as plt\n",
    "import matplotlib.dates as mdates\n",
    "import numpy as np\n",
    "import pandas as pd\n",
    "import math\n",
    "from sklearn import metrics\n",
    "from matplotlib import style\n",
    "import seaborn as sns\n",
    "from sqlalchemy import text, create_engine\n",
    "import env\n",
    "import wrangle as w\n",
    "import explore as e"
   ]
  },
  {
   "cell_type": "markdown",
   "id": "883eef28-c4fc-47f6-ad20-cefb45e452b7",
   "metadata": {},
   "source": [
    "## Wrangle:\n",
    "- Acquired data from Codeup MySQL database\n",
    "    - Initial data frame contains 847,330 rows and 15 columns\n",
    "- Prepare phase:\n",
    "    - Dropped columns not needed\n",
    "        - id, slack, created at, updated at, deleted at\n",
    "    - Set index to date_time\n",
    "        - dropped initial date and time columns after they were combined to date_time\n",
    "    - Updated dtypes for cohort_id (int), start/end dates (datetime64)\n",
    "    - Dropped rows containing ('/', 'toc', 'search/search_index.json')\n",
    "        - These rows are landing pages and not lesson pages\n",
    "- After prep, data frame has 766,351 rows and 8 columns"
   ]
  },
  {
   "cell_type": "code",
   "execution_count": 2,
   "id": "f54ef4d6-cf3d-4977-9c21-f734d37cea36",
   "metadata": {},
   "outputs": [
    {
     "name": "stdout",
     "output_type": "stream",
     "text": [
      "Found CSV\n"
     ]
    }
   ],
   "source": [
    "# acquire data from csv or MySQL\n",
    "df = w.get_logs_data()\n",
    "\n",
    "# prep data frame\n",
    "df = w.prep_logs(df)"
   ]
  },
  {
   "cell_type": "code",
   "execution_count": 3,
   "id": "00ee95c4-059a-42a4-9816-59168a1fb7a2",
   "metadata": {},
   "outputs": [
    {
     "data": {
      "text/html": [
       "<div>\n",
       "<style scoped>\n",
       "    .dataframe tbody tr th:only-of-type {\n",
       "        vertical-align: middle;\n",
       "    }\n",
       "\n",
       "    .dataframe tbody tr th {\n",
       "        vertical-align: top;\n",
       "    }\n",
       "\n",
       "    .dataframe thead th {\n",
       "        text-align: right;\n",
       "    }\n",
       "</style>\n",
       "<table border=\"1\" class=\"dataframe\">\n",
       "  <thead>\n",
       "    <tr style=\"text-align: right;\">\n",
       "      <th></th>\n",
       "      <th>path</th>\n",
       "      <th>user_id</th>\n",
       "      <th>cohort_id</th>\n",
       "      <th>ip</th>\n",
       "      <th>name</th>\n",
       "      <th>start_date</th>\n",
       "      <th>end_date</th>\n",
       "      <th>program_id</th>\n",
       "    </tr>\n",
       "    <tr>\n",
       "      <th>date_time</th>\n",
       "      <th></th>\n",
       "      <th></th>\n",
       "      <th></th>\n",
       "      <th></th>\n",
       "      <th></th>\n",
       "      <th></th>\n",
       "      <th></th>\n",
       "      <th></th>\n",
       "    </tr>\n",
       "  </thead>\n",
       "  <tbody>\n",
       "    <tr>\n",
       "      <th>2018-01-26 09:56:02</th>\n",
       "      <td>java-ii</td>\n",
       "      <td>1</td>\n",
       "      <td>8</td>\n",
       "      <td>97.105.19.61</td>\n",
       "      <td>Hampton</td>\n",
       "      <td>2015-09-22</td>\n",
       "      <td>2016-02-06</td>\n",
       "      <td>1</td>\n",
       "    </tr>\n",
       "    <tr>\n",
       "      <th>2018-01-26 09:56:05</th>\n",
       "      <td>java-ii/object-oriented-programming</td>\n",
       "      <td>1</td>\n",
       "      <td>8</td>\n",
       "      <td>97.105.19.61</td>\n",
       "      <td>Hampton</td>\n",
       "      <td>2015-09-22</td>\n",
       "      <td>2016-02-06</td>\n",
       "      <td>1</td>\n",
       "    </tr>\n",
       "    <tr>\n",
       "      <th>2018-01-26 09:56:06</th>\n",
       "      <td>slides/object_oriented_programming</td>\n",
       "      <td>1</td>\n",
       "      <td>8</td>\n",
       "      <td>97.105.19.61</td>\n",
       "      <td>Hampton</td>\n",
       "      <td>2015-09-22</td>\n",
       "      <td>2016-02-06</td>\n",
       "      <td>1</td>\n",
       "    </tr>\n",
       "    <tr>\n",
       "      <th>2018-01-26 09:56:24</th>\n",
       "      <td>javascript-i/conditionals</td>\n",
       "      <td>2</td>\n",
       "      <td>22</td>\n",
       "      <td>97.105.19.61</td>\n",
       "      <td>Teddy</td>\n",
       "      <td>2018-01-08</td>\n",
       "      <td>2018-05-17</td>\n",
       "      <td>2</td>\n",
       "    </tr>\n",
       "    <tr>\n",
       "      <th>2018-01-26 09:56:41</th>\n",
       "      <td>javascript-i/loops</td>\n",
       "      <td>2</td>\n",
       "      <td>22</td>\n",
       "      <td>97.105.19.61</td>\n",
       "      <td>Teddy</td>\n",
       "      <td>2018-01-08</td>\n",
       "      <td>2018-05-17</td>\n",
       "      <td>2</td>\n",
       "    </tr>\n",
       "  </tbody>\n",
       "</table>\n",
       "</div>"
      ],
      "text/plain": [
       "                                                    path  user_id  cohort_id  \\\n",
       "date_time                                                                      \n",
       "2018-01-26 09:56:02                              java-ii        1          8   \n",
       "2018-01-26 09:56:05  java-ii/object-oriented-programming        1          8   \n",
       "2018-01-26 09:56:06   slides/object_oriented_programming        1          8   \n",
       "2018-01-26 09:56:24            javascript-i/conditionals        2         22   \n",
       "2018-01-26 09:56:41                   javascript-i/loops        2         22   \n",
       "\n",
       "                               ip     name start_date   end_date  program_id  \n",
       "date_time                                                                     \n",
       "2018-01-26 09:56:02  97.105.19.61  Hampton 2015-09-22 2016-02-06           1  \n",
       "2018-01-26 09:56:05  97.105.19.61  Hampton 2015-09-22 2016-02-06           1  \n",
       "2018-01-26 09:56:06  97.105.19.61  Hampton 2015-09-22 2016-02-06           1  \n",
       "2018-01-26 09:56:24  97.105.19.61    Teddy 2018-01-08 2018-05-17           2  \n",
       "2018-01-26 09:56:41  97.105.19.61    Teddy 2018-01-08 2018-05-17           2  "
      ]
     },
     "execution_count": 3,
     "metadata": {},
     "output_type": "execute_result"
    }
   ],
   "source": [
    "df.head()"
   ]
  },
  {
   "cell_type": "markdown",
   "id": "bee84739-7ab0-4ea5-9b15-e4ddfdc0155f",
   "metadata": {},
   "source": [
    "## Exploration"
   ]
  },
  {
   "cell_type": "markdown",
   "id": "f881e7e2-1fb6-4dbf-abdb-74c542a3390e",
   "metadata": {},
   "source": [
    "#### 1. Which lesson appears to attract the most traffic consistently across cohorts (per program)?"
   ]
  },
  {
   "cell_type": "code",
   "execution_count": null,
   "id": "9a4c0584-33a0-4687-a1c4-b0603cb93b27",
   "metadata": {},
   "outputs": [],
   "source": []
  },
  {
   "cell_type": "code",
   "execution_count": null,
   "id": "e8a704bf-7a0b-4a4f-9a2e-4598dce762f3",
   "metadata": {},
   "outputs": [],
   "source": []
  },
  {
   "cell_type": "markdown",
   "id": "ff360c82-01d7-4766-b9b3-62b6068e02f9",
   "metadata": {},
   "source": [
    "#### 2. Is there a cohort that referred to a lesson significantly more than other cohorts seemed to gloss over?"
   ]
  },
  {
   "cell_type": "code",
   "execution_count": null,
   "id": "236b5c67-a358-456e-94ca-62473203a5f1",
   "metadata": {},
   "outputs": [],
   "source": []
  },
  {
   "cell_type": "code",
   "execution_count": null,
   "id": "29a56aa6-afc2-4937-8a6f-98266ddca2b3",
   "metadata": {},
   "outputs": [],
   "source": []
  },
  {
   "cell_type": "markdown",
   "id": "84db5b82-b3ba-4f10-931a-9c67789db2f0",
   "metadata": {},
   "source": [
    "#### 3. Are there students who, when active, hardly access the curriculum? If so, what information do you have about these students?\n"
   ]
  },
  {
   "cell_type": "code",
   "execution_count": 6,
   "id": "bd9d162f-d126-4053-95a3-632a1fd55725",
   "metadata": {},
   "outputs": [],
   "source": [
    "# isolating students who accessed the codeup websites between their start and stop dates\n",
    "# students who, when active, accessed the curriculum\n",
    "stud_acc_act = df[(df.index >= df.start_date) & (df.index <= df.end_date)]"
   ]
  },
  {
   "cell_type": "code",
   "execution_count": 7,
   "id": "38fb090e-34f9-4c06-8f85-da6c083861e9",
   "metadata": {},
   "outputs": [],
   "source": [
    "# defined low access as less than 100 curriculum visits\n",
    "# Approximately 100 days of instruction during 5 month course\n",
    "# these students accessed the curriculum less than 1 per day \n",
    "low_access = stud_acc_act.user_id.value_counts() [stud_acc_act.user_id.value_counts() < 101].index"
   ]
  },
  {
   "cell_type": "code",
   "execution_count": 8,
   "id": "b697acc5-3235-4e7e-827c-0bb9c5076230",
   "metadata": {},
   "outputs": [],
   "source": [
    "# turned low access students into a data frame\n",
    "low_access_df = stud_acc_act[stud_acc_act.user_id.isin(low_access)]"
   ]
  },
  {
   "cell_type": "code",
   "execution_count": 42,
   "id": "5eecc2d0-dbee-4a4b-8d24-a646b5e48be3",
   "metadata": {},
   "outputs": [
    {
     "data": {
      "image/png": "[encoded data removed]",
      "text/plain": [
       "<Figure size 640x480 with 1 Axes>"
      ]
     },
     "metadata": {},
     "output_type": "display_data"
    }
   ],
   "source": [
    "# plotting the total count of curriculum visits per cohort\n",
    "low_access_df.cohort_id.value_counts().plot.barh()\n",
    "plt.title('Access <100 by Cohort Number')\n",
    "plt.ylabel('Cohort Id')\n",
    "plt.xlabel('Access Count total per Cohort');"
   ]
  },
  {
   "cell_type": "markdown",
   "id": "22330a1c-ef00-4844-ad6a-f6a11d2d0a27",
   "metadata": {},
   "source": [
    "- The 2 cohorts who had the most amount of students who accessed the curriculum the least were:\n",
    "    1. cohort 139 (Oberon) program 2\n",
    "        - 85% of students are in this category\n",
    "        - This was a new cohort so this makes sense and is not an anomoly\n",
    "    2. cohort 21 (Sequoia) program 2\n",
    "        - 39% of students are in this category"
   ]
  },
  {
   "cell_type": "code",
   "execution_count": 37,
   "id": "917f686a-d960-4258-9091-93eb5297a634",
   "metadata": {},
   "outputs": [
    {
     "data": {
      "image/png": "[encoded data removed]",
      "text/plain": [
       "<Figure size 640x480 with 1 Axes>"
      ]
     },
     "metadata": {},
     "output_type": "display_data"
    }
   ],
   "source": [
    "# plotting the count of students \n",
    "low_access_df.groupby('program_id').user_id.nunique().plot.bar()\n",
    "plt.title('Access by Program')\n",
    "plt.ylabel('Count of Students')\n",
    "plt.xlabel('Program Id');"
   ]
  },
  {
   "cell_type": "markdown",
   "id": "ba9512e1-600a-4ec3-9d38-6a989778900e",
   "metadata": {},
   "source": [
    "\n",
    "- Program 2 (WebDev) had the most students who accessed the curriculum the least"
   ]
  },
  {
   "cell_type": "markdown",
   "id": "c028118d-1490-4ed9-ab19-96400533e551",
   "metadata": {},
   "source": [
    "#### 6. What topics are grads continuing to reference after graduation and into their jobs (for each program)?"
   ]
  },
  {
   "cell_type": "code",
   "execution_count": null,
   "id": "0ad8be9a-bcaf-4dc0-964a-38cae6882d8d",
   "metadata": {},
   "outputs": [],
   "source": []
  },
  {
   "cell_type": "code",
   "execution_count": null,
   "id": "299c2ad0-1605-48c8-b038-0c7a9eb5d6fc",
   "metadata": {},
   "outputs": [],
   "source": []
  },
  {
   "cell_type": "markdown",
   "id": "e99c099a-f9b6-44a7-9260-b5f8b61a3fe8",
   "metadata": {},
   "source": [
    "#### 7. Which lessons are least accessed?"
   ]
  },
  {
   "cell_type": "code",
   "execution_count": 4,
   "id": "a5e0b716-50ef-48a2-85f5-da7deb7d331b",
   "metadata": {},
   "outputs": [
    {
     "name": "stdout",
     "output_type": "stream",
     "text": [
      "Lessons accessed the least:\n",
      "timeseries: 941\n",
      "storytelling: 998\n",
      "clustering: 1146\n",
      "stats: 1367\n",
      "capstone: 1717\n",
      "design: 1805\n",
      "mkdocs: 1865\n",
      "python: 2049\n",
      "detection: 2176\n",
      "regression: 2392\n",
      "sql: 2772\n"
     ]
    }
   ],
   "source": [
    "# this function isolates webdev students and iterates over the lesson name to get lesson count\n",
    "e.least_accessed_web_dev(df)"
   ]
  },
  {
   "cell_type": "markdown",
   "id": "f1bd54f7-549a-4f3a-ab57-b74ddf4d5bbd",
   "metadata": {},
   "source": [
    "For WebDev, the following are the least accessed lessons:\n",
    "- Storytelling\n",
    "- Design\n",
    "- MkDocs"
   ]
  },
  {
   "cell_type": "code",
   "execution_count": 5,
   "id": "b64f31b4-7118-4500-acf8-d40dfc1c21d2",
   "metadata": {},
   "outputs": [
    {
     "name": "stdout",
     "output_type": "stream",
     "text": [
      "Lessons accessed the least:\n",
      "topics: 1278\n",
      "ml: 1655\n",
      "nlp: 3207\n",
      "storytelling: 3296\n",
      "timeseries: 3313\n"
     ]
    }
   ],
   "source": [
    "# this function isolates DS students and iterates over the lesson name to get lesson count\n",
    "e.least_accessed_ds(df)"
   ]
  },
  {
   "cell_type": "markdown",
   "id": "892c65f3-08fe-4167-81f1-39e9277ba349",
   "metadata": {},
   "source": [
    "For DS, the follwing are the least accessed lessons:\n",
    "- Machine learning\n",
    "- Natural Language Processing (NLP)\n",
    "- Storytelling"
   ]
  },
  {
   "cell_type": "code",
   "execution_count": null,
   "id": "918ce805-63c7-42fb-b2c7-b2685db145de",
   "metadata": {},
   "outputs": [],
   "source": []
  },
  {
   "cell_type": "code",
   "execution_count": null,
   "id": "4ce502b5-1d70-4002-a12a-c0cde4c27d31",
   "metadata": {},
   "outputs": [],
   "source": []
  },
  {
   "cell_type": "code",
   "execution_count": null,
   "id": "bc0de9e9-3667-4361-aa22-ee9c373a7b5c",
   "metadata": {},
   "outputs": [],
   "source": []
  },
  {
   "cell_type": "code",
   "execution_count": null,
   "id": "1a3dce37-7ca5-498d-b812-89611f13a40d",
   "metadata": {},
   "outputs": [],
   "source": []
  },
  {
   "cell_type": "code",
   "execution_count": null,
   "id": "5afa7218-ee6d-488c-bc97-f826feacc37c",
   "metadata": {},
   "outputs": [],
   "source": []
  }
 ],
 "metadata": {
  "kernelspec": {
   "display_name": "Python 3 (ipykernel)",
   "language": "python",
   "name": "python3"
  },
  "language_info": {
   "codemirror_mode": {
    "name": "ipython",
    "version": 3
   },
   "file_extension": ".py",
   "mimetype": "text/x-python",
   "name": "python",
   "nbconvert_exporter": "python",
   "pygments_lexer": "ipython3",
   "version": "3.9.13"
  }
 },
 "nbformat": 4,
 "nbformat_minor": 5
}
