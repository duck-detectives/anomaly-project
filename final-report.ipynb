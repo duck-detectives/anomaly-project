{
 "cells": [
  {
   "cell_type": "markdown",
   "id": "0fa089e1-55bd-4a4f-b3b2-cfb696ac2aea",
   "metadata": {},
   "source": [
    "#### Imports"
   ]
  },
  {
   "cell_type": "code",
   "execution_count": 1,
   "id": "aee1f0d0-f99f-4497-872c-6ee5bdaf70ca",
   "metadata": {},
   "outputs": [],
   "source": [
    "# from __future__ import division\n",
    "import itertools\n",
    "import warnings\n",
    "warnings.filterwarnings(\"ignore\")\n",
    "import matplotlib.pyplot as plt\n",
    "import matplotlib.dates as mdates\n",
    "import numpy as np\n",
    "import pandas as pd\n",
    "import math\n",
    "from sklearn import metrics\n",
    "from matplotlib import style\n",
    "import seaborn as sns\n",
    "from sqlalchemy import text, create_engine\n",
    "import env\n",
    "import wrangle as w\n",
    "import explore as e"
   ]
  },
  {
   "cell_type": "markdown",
   "id": "883eef28-c4fc-47f6-ad20-cefb45e452b7",
   "metadata": {},
   "source": [
    "## Wrangle:\n",
    "- Acquired data from Codeup MySQL database\n",
    "    - Initial data frame contains 847,330 rows and 15 columns\n",
    "- Prepare phase:\n",
    "    - Dropped columns not needed\n",
    "        - id, slack, created at, updated at, deleted at\n",
    "    - Set index to date_time\n",
    "        - dropped initial date and time columns after they were combined to date_time\n",
    "    - Updated dtypes for cohort_id (int), start/end dates (datetime64)\n",
    "    - Dropped rows containing ('/', 'toc', 'search/search_index.json')\n",
    "        - These rows are landing pages and not lesson pages\n",
    "    - Dropped rows where program_id == 4 since there were only 4 entries and therefore not a full-fledged program yet.\n",
    "    - Dropped rows where name == 'Staff', since we are not interested in the frequency of staff visits to the curriculum.\n",
    "- After prep, data frame has 690,916 rows and 8 columns"
   ]
  },
  {
   "cell_type": "code",
   "execution_count": 2,
   "id": "f54ef4d6-cf3d-4977-9c21-f734d37cea36",
   "metadata": {},
   "outputs": [
    {
     "name": "stdout",
     "output_type": "stream",
     "text": [
      "Found CSV\n"
     ]
    }
   ],
   "source": [
    "# acquire data from csv or MySQL\n",
    "df = w.get_logs_data()\n",
    "\n",
    "# prep data frame\n",
    "df = w.prep_logs(df)"
   ]
  },
  {
   "cell_type": "code",
   "execution_count": 3,
   "id": "00ee95c4-059a-42a4-9816-59168a1fb7a2",
   "metadata": {},
   "outputs": [
    {
     "data": {
      "text/html": [
       "<div>\n",
       "<style scoped>\n",
       "    .dataframe tbody tr th:only-of-type {\n",
       "        vertical-align: middle;\n",
       "    }\n",
       "\n",
       "    .dataframe tbody tr th {\n",
       "        vertical-align: top;\n",
       "    }\n",
       "\n",
       "    .dataframe thead th {\n",
       "        text-align: right;\n",
       "    }\n",
       "</style>\n",
       "<table border=\"1\" class=\"dataframe\">\n",
       "  <thead>\n",
       "    <tr style=\"text-align: right;\">\n",
       "      <th></th>\n",
       "      <th>path</th>\n",
       "      <th>user_id</th>\n",
       "      <th>cohort_id</th>\n",
       "      <th>ip</th>\n",
       "      <th>name</th>\n",
       "      <th>start_date</th>\n",
       "      <th>end_date</th>\n",
       "      <th>program_id</th>\n",
       "    </tr>\n",
       "    <tr>\n",
       "      <th>date_time</th>\n",
       "      <th></th>\n",
       "      <th></th>\n",
       "      <th></th>\n",
       "      <th></th>\n",
       "      <th></th>\n",
       "      <th></th>\n",
       "      <th></th>\n",
       "      <th></th>\n",
       "    </tr>\n",
       "  </thead>\n",
       "  <tbody>\n",
       "    <tr>\n",
       "      <th>2018-01-26 09:56:02</th>\n",
       "      <td>java-ii</td>\n",
       "      <td>1</td>\n",
       "      <td>8</td>\n",
       "      <td>97.105.19.61</td>\n",
       "      <td>Hampton</td>\n",
       "      <td>2015-09-22</td>\n",
       "      <td>2016-02-06</td>\n",
       "      <td>1</td>\n",
       "    </tr>\n",
       "    <tr>\n",
       "      <th>2018-01-26 09:56:05</th>\n",
       "      <td>java-ii/object-oriented-programming</td>\n",
       "      <td>1</td>\n",
       "      <td>8</td>\n",
       "      <td>97.105.19.61</td>\n",
       "      <td>Hampton</td>\n",
       "      <td>2015-09-22</td>\n",
       "      <td>2016-02-06</td>\n",
       "      <td>1</td>\n",
       "    </tr>\n",
       "    <tr>\n",
       "      <th>2018-01-26 09:56:06</th>\n",
       "      <td>slides/object_oriented_programming</td>\n",
       "      <td>1</td>\n",
       "      <td>8</td>\n",
       "      <td>97.105.19.61</td>\n",
       "      <td>Hampton</td>\n",
       "      <td>2015-09-22</td>\n",
       "      <td>2016-02-06</td>\n",
       "      <td>1</td>\n",
       "    </tr>\n",
       "    <tr>\n",
       "      <th>2018-01-26 09:56:24</th>\n",
       "      <td>javascript-i/conditionals</td>\n",
       "      <td>2</td>\n",
       "      <td>22</td>\n",
       "      <td>97.105.19.61</td>\n",
       "      <td>Teddy</td>\n",
       "      <td>2018-01-08</td>\n",
       "      <td>2018-05-17</td>\n",
       "      <td>2</td>\n",
       "    </tr>\n",
       "    <tr>\n",
       "      <th>2018-01-26 09:56:41</th>\n",
       "      <td>javascript-i/loops</td>\n",
       "      <td>2</td>\n",
       "      <td>22</td>\n",
       "      <td>97.105.19.61</td>\n",
       "      <td>Teddy</td>\n",
       "      <td>2018-01-08</td>\n",
       "      <td>2018-05-17</td>\n",
       "      <td>2</td>\n",
       "    </tr>\n",
       "  </tbody>\n",
       "</table>\n",
       "</div>"
      ],
      "text/plain": [
       "                                                    path  user_id  cohort_id  \\\n",
       "date_time                                                                      \n",
       "2018-01-26 09:56:02                              java-ii        1          8   \n",
       "2018-01-26 09:56:05  java-ii/object-oriented-programming        1          8   \n",
       "2018-01-26 09:56:06   slides/object_oriented_programming        1          8   \n",
       "2018-01-26 09:56:24            javascript-i/conditionals        2         22   \n",
       "2018-01-26 09:56:41                   javascript-i/loops        2         22   \n",
       "\n",
       "                               ip     name start_date   end_date  program_id  \n",
       "date_time                                                                     \n",
       "2018-01-26 09:56:02  97.105.19.61  Hampton 2015-09-22 2016-02-06           1  \n",
       "2018-01-26 09:56:05  97.105.19.61  Hampton 2015-09-22 2016-02-06           1  \n",
       "2018-01-26 09:56:06  97.105.19.61  Hampton 2015-09-22 2016-02-06           1  \n",
       "2018-01-26 09:56:24  97.105.19.61    Teddy 2018-01-08 2018-05-17           2  \n",
       "2018-01-26 09:56:41  97.105.19.61    Teddy 2018-01-08 2018-05-17           2  "
      ]
     },
     "execution_count": 3,
     "metadata": {},
     "output_type": "execute_result"
    }
   ],
   "source": [
    "df.head()"
   ]
  },
  {
   "cell_type": "markdown",
   "id": "bee84739-7ab0-4ea5-9b15-e4ddfdc0155f",
   "metadata": {},
   "source": [
    "## Exploration"
   ]
  },
  {
   "cell_type": "markdown",
   "id": "f881e7e2-1fb6-4dbf-abdb-74c542a3390e",
   "metadata": {},
   "source": [
    "#### 1. Which lesson appears to attract the most traffic consistently across cohorts (per program)?"
   ]
  },
  {
   "cell_type": "code",
   "execution_count": 4,
   "id": "9a4c0584-33a0-4687-a1c4-b0603cb93b27",
   "metadata": {},
   "outputs": [
    {
     "name": "stdout",
     "output_type": "stream",
     "text": [
      "List of most visited for Program 1:\n",
      "\n",
      "main_path     sub_path    \n",
      "spring        fundamentals    1426\n",
      "content       laravel         1188\n",
      "              html-css         949\n",
      "javascript-i  introduction     812\n",
      "html-css      css-i            752\n",
      "dtype: int64\n",
      "---------------------\n",
      "List of most visited for Program 2:\n",
      "\n",
      "main_path     sub_path    \n",
      "spring        fundamentals    29505\n",
      "html-css      css-i           28639\n",
      "javascript-i  introduction    22420\n",
      "html-css      css-ii          18635\n",
      "javascript-i  bom-and-dom     14165\n",
      "dtype: int64\n",
      "---------------------\n",
      "List of most visited for Program 3:\n",
      "\n",
      "main_path       sub_path                 \n",
      "classification  overview                     1785\n",
      "1-fundamentals  modern-data-scientist.jpg    1655\n",
      "                AI-ML-DL-timeline.jpg        1651\n",
      "                1.1-intro-to-data-science    1633\n",
      "classification  scale_features_or_not.svg    1590\n",
      "dtype: int64\n",
      "---------------------\n"
     ]
    }
   ],
   "source": [
    "#This function splits the file path into main and sub-category, and returns the five top accessed pages per program.\n",
    "\n",
    "e.most_accessed_per_program(df)"
   ]
  },
  {
   "cell_type": "markdown",
   "id": "cc05f169",
   "metadata": {},
   "source": [
    "Among the **Web Development** cohorts, the most frequently accessed lesson is Spring Fundamentals. \n",
    "\n",
    "For the **Data Science** Cohort, the most frequently accessed lesson is Classification: Overview."
   ]
  },
  {
   "cell_type": "markdown",
   "id": "ff360c82-01d7-4766-b9b3-62b6068e02f9",
   "metadata": {},
   "source": [
    "#### 2. Is there a cohort that referred to a lesson significantly more than other cohorts seemed to gloss over?"
   ]
  },
  {
   "cell_type": "code",
   "execution_count": 5,
   "id": "236b5c67-a358-456e-94ca-62473203a5f1",
   "metadata": {},
   "outputs": [
    {
     "data": {
      "text/html": [
       "<div>\n",
       "<style scoped>\n",
       "    .dataframe tbody tr th:only-of-type {\n",
       "        vertical-align: middle;\n",
       "    }\n",
       "\n",
       "    .dataframe tbody tr th {\n",
       "        vertical-align: top;\n",
       "    }\n",
       "\n",
       "    .dataframe thead th {\n",
       "        text-align: right;\n",
       "    }\n",
       "</style>\n",
       "<table border=\"1\" class=\"dataframe\">\n",
       "  <thead>\n",
       "    <tr style=\"text-align: right;\">\n",
       "      <th></th>\n",
       "      <th></th>\n",
       "      <th>cohort_id</th>\n",
       "      <th>num_visits</th>\n",
       "      <th>q1</th>\n",
       "      <th>q3</th>\n",
       "      <th>upper_fence</th>\n",
       "    </tr>\n",
       "    <tr>\n",
       "      <th>main_path</th>\n",
       "      <th>sub_path</th>\n",
       "      <th></th>\n",
       "      <th></th>\n",
       "      <th></th>\n",
       "      <th></th>\n",
       "      <th></th>\n",
       "    </tr>\n",
       "  </thead>\n",
       "  <tbody>\n",
       "    <tr>\n",
       "      <th rowspan=\"5\" valign=\"top\">content</th>\n",
       "      <th>laravel</th>\n",
       "      <td>13</td>\n",
       "      <td>591</td>\n",
       "      <td>4.00</td>\n",
       "      <td>64.00</td>\n",
       "      <td>244.00</td>\n",
       "    </tr>\n",
       "    <tr>\n",
       "      <th>mysql</th>\n",
       "      <td>13</td>\n",
       "      <td>83</td>\n",
       "      <td>3.25</td>\n",
       "      <td>21.00</td>\n",
       "      <td>74.25</td>\n",
       "    </tr>\n",
       "    <tr>\n",
       "      <th>javascript_ii</th>\n",
       "      <td>13</td>\n",
       "      <td>81</td>\n",
       "      <td>6.50</td>\n",
       "      <td>11.75</td>\n",
       "      <td>27.50</td>\n",
       "    </tr>\n",
       "    <tr>\n",
       "      <th>php_iv</th>\n",
       "      <td>13</td>\n",
       "      <td>273</td>\n",
       "      <td>10.75</td>\n",
       "      <td>31.25</td>\n",
       "      <td>92.75</td>\n",
       "    </tr>\n",
       "    <tr>\n",
       "      <th>git</th>\n",
       "      <td>13</td>\n",
       "      <td>144</td>\n",
       "      <td>4.75</td>\n",
       "      <td>33.25</td>\n",
       "      <td>118.75</td>\n",
       "    </tr>\n",
       "    <tr>\n",
       "      <th>...</th>\n",
       "      <th>...</th>\n",
       "      <td>...</td>\n",
       "      <td>...</td>\n",
       "      <td>...</td>\n",
       "      <td>...</td>\n",
       "      <td>...</td>\n",
       "    </tr>\n",
       "    <tr>\n",
       "      <th>classification</th>\n",
       "      <th>classical_programming_vs_machine_learning.jpeg</th>\n",
       "      <td>133</td>\n",
       "      <td>432</td>\n",
       "      <td>14.00</td>\n",
       "      <td>60.00</td>\n",
       "      <td>198.00</td>\n",
       "    </tr>\n",
       "    <tr>\n",
       "      <th rowspan=\"3\" valign=\"top\">fundamentals</th>\n",
       "      <th>diagram-of-ds-pipeline-fraud-example.jpeg</th>\n",
       "      <td>137</td>\n",
       "      <td>75</td>\n",
       "      <td>8.00</td>\n",
       "      <td>22.00</td>\n",
       "      <td>64.00</td>\n",
       "    </tr>\n",
       "    <tr>\n",
       "      <th>ml-methodologies-drawing.jpg</th>\n",
       "      <td>137</td>\n",
       "      <td>75</td>\n",
       "      <td>8.00</td>\n",
       "      <td>22.00</td>\n",
       "      <td>64.00</td>\n",
       "    </tr>\n",
       "    <tr>\n",
       "      <th>data-science-modules.jpg</th>\n",
       "      <td>137</td>\n",
       "      <td>75</td>\n",
       "      <td>8.00</td>\n",
       "      <td>22.00</td>\n",
       "      <td>64.00</td>\n",
       "    </tr>\n",
       "    <tr>\n",
       "      <th>css-i</th>\n",
       "      <th>box-model</th>\n",
       "      <td>138</td>\n",
       "      <td>2</td>\n",
       "      <td>1.00</td>\n",
       "      <td>1.00</td>\n",
       "      <td>1.00</td>\n",
       "    </tr>\n",
       "  </tbody>\n",
       "</table>\n",
       "<p>121 rows × 5 columns</p>\n",
       "</div>"
      ],
      "text/plain": [
       "                                                               cohort_id  \\\n",
       "main_path      sub_path                                                    \n",
       "content        laravel                                                13   \n",
       "               mysql                                                  13   \n",
       "               javascript_ii                                          13   \n",
       "               php_iv                                                 13   \n",
       "               git                                                    13   \n",
       "...                                                                  ...   \n",
       "classification classical_programming_vs_machine_learning.jpeg        133   \n",
       "fundamentals   diagram-of-ds-pipeline-fraud-example.jpeg             137   \n",
       "               ml-methodologies-drawing.jpg                          137   \n",
       "               data-science-modules.jpg                              137   \n",
       "css-i          box-model                                             138   \n",
       "\n",
       "                                                               num_visits  \\\n",
       "main_path      sub_path                                                     \n",
       "content        laravel                                                591   \n",
       "               mysql                                                   83   \n",
       "               javascript_ii                                           81   \n",
       "               php_iv                                                 273   \n",
       "               git                                                    144   \n",
       "...                                                                   ...   \n",
       "classification classical_programming_vs_machine_learning.jpeg         432   \n",
       "fundamentals   diagram-of-ds-pipeline-fraud-example.jpeg               75   \n",
       "               ml-methodologies-drawing.jpg                            75   \n",
       "               data-science-modules.jpg                                75   \n",
       "css-i          box-model                                                2   \n",
       "\n",
       "                                                                  q1     q3  \\\n",
       "main_path      sub_path                                                       \n",
       "content        laravel                                          4.00  64.00   \n",
       "               mysql                                            3.25  21.00   \n",
       "               javascript_ii                                    6.50  11.75   \n",
       "               php_iv                                          10.75  31.25   \n",
       "               git                                              4.75  33.25   \n",
       "...                                                              ...    ...   \n",
       "classification classical_programming_vs_machine_learning.jpeg  14.00  60.00   \n",
       "fundamentals   diagram-of-ds-pipeline-fraud-example.jpeg        8.00  22.00   \n",
       "               ml-methodologies-drawing.jpg                     8.00  22.00   \n",
       "               data-science-modules.jpg                         8.00  22.00   \n",
       "css-i          box-model                                        1.00   1.00   \n",
       "\n",
       "                                                               upper_fence  \n",
       "main_path      sub_path                                                     \n",
       "content        laravel                                              244.00  \n",
       "               mysql                                                 74.25  \n",
       "               javascript_ii                                         27.50  \n",
       "               php_iv                                                92.75  \n",
       "               git                                                  118.75  \n",
       "...                                                                    ...  \n",
       "classification classical_programming_vs_machine_learning.jpeg       198.00  \n",
       "fundamentals   diagram-of-ds-pipeline-fraud-example.jpeg             64.00  \n",
       "               ml-methodologies-drawing.jpg                          64.00  \n",
       "               data-science-modules.jpg                              64.00  \n",
       "css-i          box-model                                              1.00  \n",
       "\n",
       "[121 rows x 5 columns]"
      ]
     },
     "execution_count": 5,
     "metadata": {},
     "output_type": "execute_result"
    }
   ],
   "source": [
    "# Gets number of visits to a particular path per cohort. Calculates Q1, Q3, and the upper fence, and returns a list\n",
    "# of all cohorts that are above that upper fence with an IQR multiplier of 3.\n",
    "\n",
    "visits = e.zealous_cohorts(df)\n",
    "\n",
    "visits"
   ]
  },
  {
   "cell_type": "code",
   "execution_count": 6,
   "id": "7abee27b",
   "metadata": {},
   "outputs": [
    {
     "data": {
      "text/plain": [
       "21"
      ]
     },
     "execution_count": 6,
     "metadata": {},
     "output_type": "execute_result"
    }
   ],
   "source": [
    "visits.cohort_id.nunique() # Number of unique cohorts in the previous dataframe."
   ]
  },
  {
   "cell_type": "markdown",
   "id": "6b08e1d0",
   "metadata": {},
   "source": [
    "> Not just one cohort, but there are about 21 cohorts that have accessed specific lessons significantly more than other cohorts. We'll get visualizations of what the top three are."
   ]
  },
  {
   "cell_type": "code",
   "execution_count": 7,
   "id": "29a56aa6-afc2-4937-8a6f-98266ddca2b3",
   "metadata": {},
   "outputs": [
    {
     "data": {
      "image/png": "[encoded data removed]",
      "text/plain": [
       "<Figure size 1500x600 with 2 Axes>"
      ]
     },
     "metadata": {},
     "output_type": "display_data"
    }
   ],
   "source": [
    "# Get visualizations for top 3 cohorts and top 3 lessons.\n",
    "\n",
    "e.zealous_cohorts_viz(visits)"
   ]
  },
  {
   "cell_type": "markdown",
   "id": "b5538b1b",
   "metadata": {},
   "source": [
    "> Looking at the visualizations, cohorts **22, 23, and 24** were the cohorts that accessed lessons significantly more than other cohorts.\n",
    "\n",
    "> Among those lessons, it seems that overall, **Google Maps API, Slides: Methods, and Slides: Syntax Types and Variables** were the three lessons that required the most review/attention."
   ]
  },
  {
   "cell_type": "markdown",
   "id": "84db5b82-b3ba-4f10-931a-9c67789db2f0",
   "metadata": {},
   "source": [
    "#### 3. Are there students who, when active, hardly access the curriculum? If so, what information do you have about these students?\n"
   ]
  },
  {
   "cell_type": "code",
   "execution_count": 8,
   "id": "bd9d162f-d126-4053-95a3-632a1fd55725",
   "metadata": {},
   "outputs": [],
   "source": [
    "# isolating students who accessed the codeup websites between their start and stop dates\n",
    "# students who, when active, accessed the curriculum\n",
    "stud_acc_act = df[(df.index >= df.start_date) & (df.index <= df.end_date)]"
   ]
  },
  {
   "cell_type": "code",
   "execution_count": 9,
   "id": "38fb090e-34f9-4c06-8f85-da6c083861e9",
   "metadata": {},
   "outputs": [],
   "source": [
    "# defined low access as less than 100 curriculum visits\n",
    "# Approximately 100 days of instruction during 5 month course\n",
    "# these students accessed the curriculum less than 1 per day \n",
    "low_access = stud_acc_act.user_id.value_counts() [stud_acc_act.user_id.value_counts() < 101].index"
   ]
  },
  {
   "cell_type": "code",
   "execution_count": 10,
   "id": "b697acc5-3235-4e7e-827c-0bb9c5076230",
   "metadata": {},
   "outputs": [],
   "source": [
    "# turned low access students into a data frame\n",
    "low_access_df = stud_acc_act[stud_acc_act.user_id.isin(low_access)]"
   ]
  },
  {
   "cell_type": "code",
   "execution_count": 11,
   "id": "5eecc2d0-dbee-4a4b-8d24-a646b5e48be3",
   "metadata": {},
   "outputs": [
    {
     "data": {
      "image/png": "[encoded data removed]",
      "text/plain": [
       "<Figure size 640x480 with 1 Axes>"
      ]
     },
     "metadata": {},
     "output_type": "display_data"
    }
   ],
   "source": [
    "# plotting the total count of curriculum visits per cohort\n",
    "low_access_df.cohort_id.value_counts().plot.barh()\n",
    "plt.title('Access <100 by Cohort Number')\n",
    "plt.ylabel('Cohort Id')\n",
    "plt.xlabel('Access Count total per Cohort');"
   ]
  },
  {
   "cell_type": "markdown",
   "id": "22330a1c-ef00-4844-ad6a-f6a11d2d0a27",
   "metadata": {},
   "source": [
    "- The 2 cohorts who had the most amount of students who accessed the curriculum the least were:\n",
    "    1. cohort 139 (Oberon) program 2\n",
    "        - 85% of students are in this category\n",
    "        - This was a new cohort so this makes sense and is **not** an anomaly\n",
    "    2. cohort 21 (Sequoia) program 2\n",
    "        - 39% of students are in this category"
   ]
  },
  {
   "cell_type": "code",
   "execution_count": 12,
   "id": "917f686a-d960-4258-9091-93eb5297a634",
   "metadata": {},
   "outputs": [
    {
     "data": {
      "image/png": "[encoded data removed]",
      "text/plain": [
       "<Figure size 640x480 with 1 Axes>"
      ]
     },
     "metadata": {},
     "output_type": "display_data"
    }
   ],
   "source": [
    "# plotting the count of students \n",
    "low_access_df.groupby('program_id').user_id.nunique().plot.bar()\n",
    "plt.title('Access by Program')\n",
    "plt.ylabel('Count of Students')\n",
    "plt.xlabel('Program Id');"
   ]
  },
  {
   "cell_type": "markdown",
   "id": "ba9512e1-600a-4ec3-9d38-6a989778900e",
   "metadata": {},
   "source": [
    "\n",
    "- Program 2 (WebDev) had the most students who accessed the curriculum the least"
   ]
  },
  {
   "cell_type": "markdown",
   "id": "c028118d-1490-4ed9-ab19-96400533e551",
   "metadata": {},
   "source": [
    "#### 6. What topics are grads continuing to reference after graduation and into their jobs (for each program)?"
   ]
  },
  {
   "cell_type": "markdown",
   "id": "5daeb0cf",
   "metadata": {},
   "source": [
    "For this question, we'll run the dataframe through a function that'll give us the answer per program."
   ]
  },
  {
   "cell_type": "code",
   "execution_count": 13,
   "id": "0ad8be9a-bcaf-4dc0-964a-38cae6882d8d",
   "metadata": {},
   "outputs": [
    {
     "data": {
      "text/html": [
       "<div>\n",
       "<style scoped>\n",
       "    .dataframe tbody tr th:only-of-type {\n",
       "        vertical-align: middle;\n",
       "    }\n",
       "\n",
       "    .dataframe tbody tr th {\n",
       "        vertical-align: top;\n",
       "    }\n",
       "\n",
       "    .dataframe thead th {\n",
       "        text-align: right;\n",
       "    }\n",
       "</style>\n",
       "<table border=\"1\" class=\"dataframe\">\n",
       "  <thead>\n",
       "    <tr style=\"text-align: right;\">\n",
       "      <th></th>\n",
       "      <th></th>\n",
       "      <th>user_id</th>\n",
       "    </tr>\n",
       "    <tr>\n",
       "      <th>main_path</th>\n",
       "      <th>sub_path</th>\n",
       "      <th></th>\n",
       "    </tr>\n",
       "  </thead>\n",
       "  <tbody>\n",
       "    <tr>\n",
       "      <th>spring</th>\n",
       "      <th>fundamentals</th>\n",
       "      <td>1426</td>\n",
       "    </tr>\n",
       "    <tr>\n",
       "      <th rowspan=\"2\" valign=\"top\">content</th>\n",
       "      <th>laravel</th>\n",
       "      <td>1188</td>\n",
       "    </tr>\n",
       "    <tr>\n",
       "      <th>html-css</th>\n",
       "      <td>949</td>\n",
       "    </tr>\n",
       "  </tbody>\n",
       "</table>\n",
       "</div>"
      ],
      "text/plain": [
       "                        user_id\n",
       "main_path sub_path             \n",
       "spring    fundamentals     1426\n",
       "content   laravel          1188\n",
       "          html-css          949"
      ]
     },
     "execution_count": 13,
     "metadata": {},
     "output_type": "execute_result"
    }
   ],
   "source": [
    "# Count of user IDs (i.e. how many times this path was accessed) for Program 1 after they graduated.\n",
    "\n",
    "e.lessons_after_grad(df, 1)"
   ]
  },
  {
   "cell_type": "code",
   "execution_count": 14,
   "id": "299c2ad0-1605-48c8-b038-0c7a9eb5d6fc",
   "metadata": {},
   "outputs": [
    {
     "data": {
      "text/html": [
       "<div>\n",
       "<style scoped>\n",
       "    .dataframe tbody tr th:only-of-type {\n",
       "        vertical-align: middle;\n",
       "    }\n",
       "\n",
       "    .dataframe tbody tr th {\n",
       "        vertical-align: top;\n",
       "    }\n",
       "\n",
       "    .dataframe thead th {\n",
       "        text-align: right;\n",
       "    }\n",
       "</style>\n",
       "<table border=\"1\" class=\"dataframe\">\n",
       "  <thead>\n",
       "    <tr style=\"text-align: right;\">\n",
       "      <th></th>\n",
       "      <th></th>\n",
       "      <th>user_id</th>\n",
       "    </tr>\n",
       "    <tr>\n",
       "      <th>main_path</th>\n",
       "      <th>sub_path</th>\n",
       "      <th></th>\n",
       "    </tr>\n",
       "  </thead>\n",
       "  <tbody>\n",
       "    <tr>\n",
       "      <th>spring</th>\n",
       "      <th>fundamentals</th>\n",
       "      <td>5400</td>\n",
       "    </tr>\n",
       "    <tr>\n",
       "      <th>html-css</th>\n",
       "      <th>css-i</th>\n",
       "      <td>1986</td>\n",
       "    </tr>\n",
       "    <tr>\n",
       "      <th>javascript-i</th>\n",
       "      <th>introduction</th>\n",
       "      <td>1489</td>\n",
       "    </tr>\n",
       "  </tbody>\n",
       "</table>\n",
       "</div>"
      ],
      "text/plain": [
       "                           user_id\n",
       "main_path    sub_path             \n",
       "spring       fundamentals     5400\n",
       "html-css     css-i            1986\n",
       "javascript-i introduction     1489"
      ]
     },
     "execution_count": 14,
     "metadata": {},
     "output_type": "execute_result"
    }
   ],
   "source": [
    "# Same, but for program 2.\n",
    "\n",
    "e.lessons_after_grad(df, 2)"
   ]
  },
  {
   "cell_type": "code",
   "execution_count": 15,
   "id": "8b284dea-c348-48a5-8f3e-876861795c96",
   "metadata": {},
   "outputs": [
    {
     "data": {
      "text/html": [
       "<div>\n",
       "<style scoped>\n",
       "    .dataframe tbody tr th:only-of-type {\n",
       "        vertical-align: middle;\n",
       "    }\n",
       "\n",
       "    .dataframe tbody tr th {\n",
       "        vertical-align: top;\n",
       "    }\n",
       "\n",
       "    .dataframe thead th {\n",
       "        text-align: right;\n",
       "    }\n",
       "</style>\n",
       "<table border=\"1\" class=\"dataframe\">\n",
       "  <thead>\n",
       "    <tr style=\"text-align: right;\">\n",
       "      <th></th>\n",
       "      <th></th>\n",
       "      <th>user_id</th>\n",
       "    </tr>\n",
       "    <tr>\n",
       "      <th>main_path</th>\n",
       "      <th>sub_path</th>\n",
       "      <th></th>\n",
       "    </tr>\n",
       "  </thead>\n",
       "  <tbody>\n",
       "    <tr>\n",
       "      <th>sql</th>\n",
       "      <th>mysql-overview</th>\n",
       "      <td>275</td>\n",
       "    </tr>\n",
       "    <tr>\n",
       "      <th rowspan=\"2\" valign=\"top\">classification</th>\n",
       "      <th>overview</th>\n",
       "      <td>267</td>\n",
       "    </tr>\n",
       "    <tr>\n",
       "      <th>scale_features_or_not.svg</th>\n",
       "      <td>220</td>\n",
       "    </tr>\n",
       "  </tbody>\n",
       "</table>\n",
       "</div>"
      ],
      "text/plain": [
       "                                          user_id\n",
       "main_path      sub_path                          \n",
       "sql            mysql-overview                 275\n",
       "classification overview                       267\n",
       "               scale_features_or_not.svg      220"
      ]
     },
     "execution_count": 15,
     "metadata": {},
     "output_type": "execute_result"
    }
   ],
   "source": [
    "# Same, but for program 3.\n",
    "\n",
    "e.lessons_after_grad(df, 3)"
   ]
  },
  {
   "cell_type": "markdown",
   "id": "c151e39d",
   "metadata": {},
   "source": [
    "All in all, much like the first question, the top most re-visited topics after graduation for **Web Development** cohorts are **Spring Fundamentals, HTML CSS, Javascript, and Laravel**.\n",
    "\n",
    "For **Data Science** cohorts, this answer differs from the first question's answer. Their more re-visited topics are **MySQL: Overview, Classification, and Scaling**."
   ]
  },
  {
   "cell_type": "markdown",
   "id": "e99c099a-f9b6-44a7-9260-b5f8b61a3fe8",
   "metadata": {},
   "source": [
    "#### 7. Which lessons are least accessed?"
   ]
  },
  {
   "cell_type": "code",
   "execution_count": 16,
   "id": "a5e0b716-50ef-48a2-85f5-da7deb7d331b",
   "metadata": {},
   "outputs": [
    {
     "name": "stdout",
     "output_type": "stream",
     "text": [
      "Lessons accessed the least:\n",
      "capstone: 1385\n",
      "design: 1648\n",
      "mkdocs: 1865\n",
      "slides: 7130\n",
      "content: 8679\n"
     ]
    }
   ],
   "source": [
    "# this function isolates webdev students and iterates over the lesson name to get lesson count\n",
    "e.least_accessed_web_dev(df)"
   ]
  },
  {
   "cell_type": "markdown",
   "id": "f1bd54f7-549a-4f3a-ab57-b74ddf4d5bbd",
   "metadata": {},
   "source": [
    "For WebDev, the following are the least accessed lessons:\n",
    "- Slides\n",
    "- Capstone\n",
    "- MkDocs"
   ]
  },
  {
   "cell_type": "code",
   "execution_count": 17,
   "id": "b64f31b4-7118-4500-acf8-d40dfc1c21d2",
   "metadata": {},
   "outputs": [
    {
     "name": "stdout",
     "output_type": "stream",
     "text": [
      "Lessons accessed the least:\n",
      "topics: 1278\n",
      "ml: 1655\n",
      "nlp: 3207\n",
      "storytelling: 3296\n",
      "timeseries: 3313\n"
     ]
    }
   ],
   "source": [
    "# this function isolates DS students and iterates over the lesson name to get lesson count\n",
    "e.least_accessed_ds(df)"
   ]
  },
  {
   "cell_type": "markdown",
   "id": "892c65f3-08fe-4167-81f1-39e9277ba349",
   "metadata": {},
   "source": [
    "For DS, the follwing are the least accessed lessons:\n",
    "- Machine learning\n",
    "- Natural Language Processing (NLP)\n",
    "- Storytelling"
   ]
  },
  {
   "cell_type": "markdown",
   "id": "1e59c62d",
   "metadata": {},
   "source": [
    "#### 8. Anything else I should be aware of?"
   ]
  },
  {
   "cell_type": "markdown",
   "id": "b0ed3182",
   "metadata": {},
   "source": [
    "Yes.\n",
    "\n",
    "- During the Acquisition phase, we found an instance claiming that Student ID 643 had been based. \n",
    "- Staff is included under Program ID 2, which doesn't make sense. They should be under a separate program.\n",
    "- Bayes does not have a slack name, which should be fixed.\n",
    "- A lot of answers required sifting through junk data, as a lot of \"anomalies\" came from webpages that had been misspelled and were otherwise relics of first drafts of that particular page/lesson."
   ]
  },
  {
   "cell_type": "markdown",
   "id": "d4be9eae",
   "metadata": {},
   "source": [
    "# Conclusion"
   ]
  },
  {
   "cell_type": "markdown",
   "id": "ce23b057",
   "metadata": {},
   "source": [
    "- Overall, Web Dev students hit the curriculum more often, and even had access to Data Science material. \n",
    "- Data Science cohorts, on the other hand, did not have access to Web Dev material.\n",
    "- Web Dev students accessed the same material both during their cohort and after their graduation.\n",
    "- Data Science students reviewed MySQL moreso after graduation than during their time at Codeup.\n",
    "- At least speaking for Data Science students, the least accessed materials are those that are covered towards the end of the curriculum."
   ]
  }
 ],
 "metadata": {
  "kernelspec": {
   "display_name": "Python 3 (ipykernel)",
   "language": "python",
   "name": "python3"
  },
  "language_info": {
   "codemirror_mode": {
    "name": "ipython",
    "version": 3
   },
   "file_extension": ".py",
   "mimetype": "text/x-python",
   "name": "python",
   "nbconvert_exporter": "python",
   "pygments_lexer": "ipython3",
   "version": "3.9.13"
  }
 },
 "nbformat": 4,
 "nbformat_minor": 5
}
